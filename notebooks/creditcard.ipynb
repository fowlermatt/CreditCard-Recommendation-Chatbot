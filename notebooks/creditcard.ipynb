{
 "cells": [
  {
   "cell_type": "code",
   "execution_count": 11,
   "id": "b35a7807",
   "metadata": {},
   "outputs": [
    {
     "name": "stderr",
     "output_type": "stream",
     "text": [
      "/var/folders/75/pjv494zj7_qb13c74w7vkwf80000gn/T/ipykernel_2207/1250040349.py:9: DtypeWarning: Columns (0,19,49,59,118,129,130,131,134,135,136,139,145,146,147) have mixed types. Specify dtype option on import or set low_memory=False.\n",
      "  accepted = pd.read_csv(DATA / \"accepted_2007_to_2018Q4.csv\")\n"
     ]
    },
    {
     "ename": "KeyError",
     "evalue": "\"['annual_inc', 'fico_high', 'dti', 'emp_length', 'purpose'] not in index\"",
     "output_type": "error",
     "traceback": [
      "\u001b[0;31m---------------------------------------------------------------------------\u001b[0m",
      "\u001b[0;31mKeyError\u001b[0m                                  Traceback (most recent call last)",
      "Cell \u001b[0;32mIn[11], line 25\u001b[0m\n\u001b[1;32m     14\u001b[0m common_cols \u001b[38;5;241m=\u001b[39m {\n\u001b[1;32m     15\u001b[0m     \u001b[38;5;124m\"\u001b[39m\u001b[38;5;124mannual_inc\u001b[39m\u001b[38;5;124m\"\u001b[39m:  \u001b[38;5;124m\"\u001b[39m\u001b[38;5;124mannual_inc\u001b[39m\u001b[38;5;124m\"\u001b[39m,\n\u001b[1;32m     16\u001b[0m     \u001b[38;5;124m\"\u001b[39m\u001b[38;5;124mfico_range_high\u001b[39m\u001b[38;5;124m\"\u001b[39m: \u001b[38;5;124m\"\u001b[39m\u001b[38;5;124mfico_high\u001b[39m\u001b[38;5;124m\"\u001b[39m,\n\u001b[0;32m   (...)\u001b[0m\n\u001b[1;32m     19\u001b[0m     \u001b[38;5;124m\"\u001b[39m\u001b[38;5;124mpurpose\u001b[39m\u001b[38;5;124m\"\u001b[39m: \u001b[38;5;124m\"\u001b[39m\u001b[38;5;124mpurpose\u001b[39m\u001b[38;5;124m\"\u001b[39m\n\u001b[1;32m     20\u001b[0m }\n\u001b[1;32m     21\u001b[0m acc_df \u001b[38;5;241m=\u001b[39m (accepted\n\u001b[1;32m     22\u001b[0m           \u001b[38;5;241m.\u001b[39mrename(columns\u001b[38;5;241m=\u001b[39mcommon_cols)\n\u001b[1;32m     23\u001b[0m           \u001b[38;5;241m.\u001b[39massign(approved\u001b[38;5;241m=\u001b[39m\u001b[38;5;241m1\u001b[39m)\n\u001b[1;32m     24\u001b[0m           [\u001b[38;5;28mlist\u001b[39m(common_cols\u001b[38;5;241m.\u001b[39mvalues()) \u001b[38;5;241m+\u001b[39m [\u001b[38;5;124m\"\u001b[39m\u001b[38;5;124mapproved\u001b[39m\u001b[38;5;124m\"\u001b[39m]])\n\u001b[0;32m---> 25\u001b[0m rej_df \u001b[38;5;241m=\u001b[39m (\u001b[43mrejected\u001b[49m\n\u001b[1;32m     26\u001b[0m \u001b[43m          \u001b[49m\u001b[38;5;241;43m.\u001b[39;49m\u001b[43mrename\u001b[49m\u001b[43m(\u001b[49m\u001b[43mcolumns\u001b[49m\u001b[38;5;241;43m=\u001b[39;49m\u001b[43mcommon_cols\u001b[49m\u001b[43m)\u001b[49m\n\u001b[1;32m     27\u001b[0m \u001b[43m          \u001b[49m\u001b[38;5;241;43m.\u001b[39;49m\u001b[43massign\u001b[49m\u001b[43m(\u001b[49m\u001b[43mapproved\u001b[49m\u001b[38;5;241;43m=\u001b[39;49m\u001b[38;5;241;43m0\u001b[39;49m\u001b[43m)\u001b[49m\n\u001b[1;32m     28\u001b[0m \u001b[43m          \u001b[49m\u001b[43m[\u001b[49m\u001b[38;5;28;43mlist\u001b[39;49m\u001b[43m(\u001b[49m\u001b[43mcommon_cols\u001b[49m\u001b[38;5;241;43m.\u001b[39;49m\u001b[43mvalues\u001b[49m\u001b[43m(\u001b[49m\u001b[43m)\u001b[49m\u001b[43m)\u001b[49m\u001b[43m \u001b[49m\u001b[38;5;241;43m+\u001b[39;49m\u001b[43m \u001b[49m\u001b[43m[\u001b[49m\u001b[38;5;124;43m\"\u001b[39;49m\u001b[38;5;124;43mapproved\u001b[39;49m\u001b[38;5;124;43m\"\u001b[39;49m\u001b[43m]\u001b[49m\u001b[43m]\u001b[49m)\n\u001b[1;32m     29\u001b[0m aus_df \u001b[38;5;241m=\u001b[39m pd\u001b[38;5;241m.\u001b[39mDataFrame({\n\u001b[1;32m     30\u001b[0m     \u001b[38;5;124m\"\u001b[39m\u001b[38;5;124mannual_inc\u001b[39m\u001b[38;5;124m\"\u001b[39m:  aus_raw[\u001b[38;5;124m\"\u001b[39m\u001b[38;5;124mA14\u001b[39m\u001b[38;5;124m\"\u001b[39m],\n\u001b[1;32m     31\u001b[0m     \u001b[38;5;124m\"\u001b[39m\u001b[38;5;124mfico_high\u001b[39m\u001b[38;5;124m\"\u001b[39m:   aus_raw[\u001b[38;5;124m\"\u001b[39m\u001b[38;5;124mA2\u001b[39m\u001b[38;5;124m\"\u001b[39m] \u001b[38;5;241m*\u001b[39m \u001b[38;5;241m12\u001b[39m \u001b[38;5;241m+\u001b[39m \u001b[38;5;241m300\u001b[39m,\n\u001b[0;32m   (...)\u001b[0m\n\u001b[1;32m     35\u001b[0m     \u001b[38;5;124m\"\u001b[39m\u001b[38;5;124mapproved\u001b[39m\u001b[38;5;124m\"\u001b[39m:    aus_raw[\u001b[38;5;124m\"\u001b[39m\u001b[38;5;124mClass\u001b[39m\u001b[38;5;124m\"\u001b[39m]\u001b[38;5;241m.\u001b[39mmap({\u001b[38;5;124m\"\u001b[39m\u001b[38;5;124m+\u001b[39m\u001b[38;5;124m\"\u001b[39m:\u001b[38;5;241m1\u001b[39m, \u001b[38;5;124m\"\u001b[39m\u001b[38;5;124m-\u001b[39m\u001b[38;5;124m\"\u001b[39m:\u001b[38;5;241m0\u001b[39m})\n\u001b[1;32m     36\u001b[0m })\n\u001b[1;32m     37\u001b[0m app_df \u001b[38;5;241m=\u001b[39m pd\u001b[38;5;241m.\u001b[39mconcat([acc_df, rej_df, aus_df], ignore_index\u001b[38;5;241m=\u001b[39m\u001b[38;5;28;01mTrue\u001b[39;00m)\n",
      "File \u001b[0;32m/Library/Frameworks/Python.framework/Versions/3.13/lib/python3.13/site-packages/pandas/core/frame.py:4108\u001b[0m, in \u001b[0;36mDataFrame.__getitem__\u001b[0;34m(self, key)\u001b[0m\n\u001b[1;32m   4106\u001b[0m     \u001b[38;5;28;01mif\u001b[39;00m is_iterator(key):\n\u001b[1;32m   4107\u001b[0m         key \u001b[38;5;241m=\u001b[39m \u001b[38;5;28mlist\u001b[39m(key)\n\u001b[0;32m-> 4108\u001b[0m     indexer \u001b[38;5;241m=\u001b[39m \u001b[38;5;28;43mself\u001b[39;49m\u001b[38;5;241;43m.\u001b[39;49m\u001b[43mcolumns\u001b[49m\u001b[38;5;241;43m.\u001b[39;49m\u001b[43m_get_indexer_strict\u001b[49m\u001b[43m(\u001b[49m\u001b[43mkey\u001b[49m\u001b[43m,\u001b[49m\u001b[43m \u001b[49m\u001b[38;5;124;43m\"\u001b[39;49m\u001b[38;5;124;43mcolumns\u001b[39;49m\u001b[38;5;124;43m\"\u001b[39;49m\u001b[43m)\u001b[49m[\u001b[38;5;241m1\u001b[39m]\n\u001b[1;32m   4110\u001b[0m \u001b[38;5;66;03m# take() does not accept boolean indexers\u001b[39;00m\n\u001b[1;32m   4111\u001b[0m \u001b[38;5;28;01mif\u001b[39;00m \u001b[38;5;28mgetattr\u001b[39m(indexer, \u001b[38;5;124m\"\u001b[39m\u001b[38;5;124mdtype\u001b[39m\u001b[38;5;124m\"\u001b[39m, \u001b[38;5;28;01mNone\u001b[39;00m) \u001b[38;5;241m==\u001b[39m \u001b[38;5;28mbool\u001b[39m:\n",
      "File \u001b[0;32m/Library/Frameworks/Python.framework/Versions/3.13/lib/python3.13/site-packages/pandas/core/indexes/base.py:6200\u001b[0m, in \u001b[0;36mIndex._get_indexer_strict\u001b[0;34m(self, key, axis_name)\u001b[0m\n\u001b[1;32m   6197\u001b[0m \u001b[38;5;28;01melse\u001b[39;00m:\n\u001b[1;32m   6198\u001b[0m     keyarr, indexer, new_indexer \u001b[38;5;241m=\u001b[39m \u001b[38;5;28mself\u001b[39m\u001b[38;5;241m.\u001b[39m_reindex_non_unique(keyarr)\n\u001b[0;32m-> 6200\u001b[0m \u001b[38;5;28;43mself\u001b[39;49m\u001b[38;5;241;43m.\u001b[39;49m\u001b[43m_raise_if_missing\u001b[49m\u001b[43m(\u001b[49m\u001b[43mkeyarr\u001b[49m\u001b[43m,\u001b[49m\u001b[43m \u001b[49m\u001b[43mindexer\u001b[49m\u001b[43m,\u001b[49m\u001b[43m \u001b[49m\u001b[43maxis_name\u001b[49m\u001b[43m)\u001b[49m\n\u001b[1;32m   6202\u001b[0m keyarr \u001b[38;5;241m=\u001b[39m \u001b[38;5;28mself\u001b[39m\u001b[38;5;241m.\u001b[39mtake(indexer)\n\u001b[1;32m   6203\u001b[0m \u001b[38;5;28;01mif\u001b[39;00m \u001b[38;5;28misinstance\u001b[39m(key, Index):\n\u001b[1;32m   6204\u001b[0m     \u001b[38;5;66;03m# GH 42790 - Preserve name from an Index\u001b[39;00m\n",
      "File \u001b[0;32m/Library/Frameworks/Python.framework/Versions/3.13/lib/python3.13/site-packages/pandas/core/indexes/base.py:6252\u001b[0m, in \u001b[0;36mIndex._raise_if_missing\u001b[0;34m(self, key, indexer, axis_name)\u001b[0m\n\u001b[1;32m   6249\u001b[0m     \u001b[38;5;28;01mraise\u001b[39;00m \u001b[38;5;167;01mKeyError\u001b[39;00m(\u001b[38;5;124mf\u001b[39m\u001b[38;5;124m\"\u001b[39m\u001b[38;5;124mNone of [\u001b[39m\u001b[38;5;132;01m{\u001b[39;00mkey\u001b[38;5;132;01m}\u001b[39;00m\u001b[38;5;124m] are in the [\u001b[39m\u001b[38;5;132;01m{\u001b[39;00maxis_name\u001b[38;5;132;01m}\u001b[39;00m\u001b[38;5;124m]\u001b[39m\u001b[38;5;124m\"\u001b[39m)\n\u001b[1;32m   6251\u001b[0m not_found \u001b[38;5;241m=\u001b[39m \u001b[38;5;28mlist\u001b[39m(ensure_index(key)[missing_mask\u001b[38;5;241m.\u001b[39mnonzero()[\u001b[38;5;241m0\u001b[39m]]\u001b[38;5;241m.\u001b[39munique())\n\u001b[0;32m-> 6252\u001b[0m \u001b[38;5;28;01mraise\u001b[39;00m \u001b[38;5;167;01mKeyError\u001b[39;00m(\u001b[38;5;124mf\u001b[39m\u001b[38;5;124m\"\u001b[39m\u001b[38;5;132;01m{\u001b[39;00mnot_found\u001b[38;5;132;01m}\u001b[39;00m\u001b[38;5;124m not in index\u001b[39m\u001b[38;5;124m\"\u001b[39m)\n",
      "\u001b[0;31mKeyError\u001b[0m: \"['annual_inc', 'fico_high', 'dti', 'emp_length', 'purpose'] not in index\""
     ]
    }
   ],
   "source": [
    "import pandas as pd\n",
    "import numpy as np\n",
    "from pathlib import Path\n",
    "from sklearn.model_selection import train_test_split, cross_val_score\n",
    "from sklearn.ensemble import RandomForestClassifier\n",
    "from sklearn.metrics import roc_auc_score\n",
    "\n",
    "DATA = Path(\"../ml_data\")\n",
    "accepted = pd.read_csv(DATA / \"accepted_2007_to_2018Q4.csv\")\n",
    "rejected = pd.read_csv(DATA / \"rejected_2007_to_2018Q4 2.csv\")\n",
    "aus_cols = [f\"A{i}\" for i in range(1,15)] + [\"Class\"]\n",
    "aus_raw = pd.read_csv(DATA / \"australian.csv\", header=None, names=aus_cols)\n",
    "\n",
    "common_cols = {\n",
    "    \"annual_inc\":  \"annual_inc\",\n",
    "    \"fico_range_high\": \"fico_high\",\n",
    "    \"dti\": \"dti\",\n",
    "    \"emp_length\": \"emp_length\",\n",
    "    \"purpose\": \"purpose\"\n",
    "}\n",
    "acc_df = (accepted\n",
    "          .rename(columns=common_cols)\n",
    "          .assign(approved=1)\n",
    "          [list(common_cols.values()) + [\"approved\"]])\n",
    "rej_df = (rejected\n",
    "          .rename(columns=common_cols)\n",
    "          .assign(approved=0)\n",
    "          [list(common_cols.values()) + [\"approved\"]])\n",
    "aus_df = pd.DataFrame({\n",
    "    \"annual_inc\":  aus_raw[\"A14\"],\n",
    "    \"fico_high\":   aus_raw[\"A2\"] * 12 + 300,\n",
    "    \"dti\":         aus_raw[\"A9\"],\n",
    "    \"emp_length\":  aus_raw[\"A8\"],\n",
    "    \"purpose\":     np.nan,\n",
    "    \"approved\":    aus_raw[\"Class\"].map({\"+\":1, \"-\":0})\n",
    "})\n",
    "app_df = pd.concat([acc_df, rej_df, aus_df], ignore_index=True)\n",
    "\n",
    "app_df[\"inc_missing\"]  = app_df[\"annual_inc\"].isna().astype(int)\n",
    "app_df[\"fico_missing\"] = app_df[\"fico_high\"].isna().astype(int)\n",
    "\n",
    "app_df[\"annual_inc\"] = app_df[\"annual_inc\"].fillna(app_df[\"annual_inc\"].median())\n",
    "app_df[\"fico_high\"]  = app_df[\"fico_high\"].fillna(app_df[\"fico_high\"].median())\n",
    "app_df[\"dti\"] = (\n",
    "    app_df[\"dti\"].astype(str)\n",
    "          .str.rstrip(\"%\")\n",
    "          .replace(\"\", np.nan)\n",
    "          .astype(float)\n",
    ")\n",
    "raw_emp = app_df.get(\"emp_length\", app_df.get(\"employment_length\", pd.Series(0, index=app_df.index)))\n",
    "app_df[\"emp_length_num\"] = (\n",
    "    raw_emp.astype(str)\n",
    "           .str.extract(r\"(\\d+)\")\n",
    "           .iloc[:,0]\n",
    "           .astype(float)\n",
    "           .fillna(0)\n",
    ")\n",
    "pos = app_df[app_df.approved == 1]\n",
    "neg = app_df[app_df.approved == 0].sample(n=100_000, random_state=42)\n",
    "small_df = pd.concat([pos, neg], ignore_index=True).sample(frac=1, random_state=42)\n",
    "\n",
    "features = [\"annual_inc\", \"fico_high\", \"dti\", \"emp_length_num\", \"inc_missing\", \"fico_missing\"]\n",
    "X = small_df[features]\n",
    "y = small_df[\"approved\"].astype(int)\n",
    "\n",
    "X_train, X_test, y_train, y_test = train_test_split(\n",
    "    X, y, stratify=y, test_size=0.2, random_state=42\n",
    ")\n",
    "\n",
    "clf = RandomForestClassifier(n_estimators=50, n_jobs=-1, random_state=42)\n",
    "clf.fit(X_train, y_train)\n",
    "\n",
    "auc = roc_auc_score(y_test, clf.predict_proba(X_test)[:,1])\n",
    "cv_scores = cross_val_score(clf, X, y, cv=5, scoring=\"roc_auc\")\n",
    "\n",
    "print(f\"Hold‑out AUC: {auc:.3f}\")\n",
    "print(\"5‑fold CV AUC:\", cv_scores, \"mean:\", cv_scores.mean().round(3))\n",
    "print(\"Feature importances:\")\n",
    "print(pd.Series(clf.feature_importances_, index=features).sort_values(ascending=False))\n",
    "\n",
    "\n"
   ]
  },
  {
   "cell_type": "code",
   "execution_count": null,
   "id": "bd5235e3",
   "metadata": {},
   "outputs": [],
   "source": []
  }
 ],
 "metadata": {
  "kernelspec": {
   "display_name": "Python 3",
   "language": "python",
   "name": "python3"
  },
  "language_info": {
   "codemirror_mode": {
    "name": "ipython",
    "version": 3
   },
   "file_extension": ".py",
   "mimetype": "text/x-python",
   "name": "python",
   "nbconvert_exporter": "python",
   "pygments_lexer": "ipython3",
   "version": "3.13.2"
  }
 },
 "nbformat": 4,
 "nbformat_minor": 5
}
